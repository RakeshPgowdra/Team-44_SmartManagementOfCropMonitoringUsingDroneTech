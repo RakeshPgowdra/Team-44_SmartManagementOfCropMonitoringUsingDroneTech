{
 "cells": [
  {
   "cell_type": "code",
   "execution_count": 1,
   "id": "6f07d0a6-71b0-4c34-887e-018b1a6280dd",
   "metadata": {},
   "outputs": [
    {
     "name": "stderr",
     "output_type": "stream",
     "text": [
      "C:\\Users\\Yash\\AppData\\Local\\Programs\\Python\\Python310\\lib\\site-packages\\keras\\src\\layers\\convolutional\\base_conv.py:107: UserWarning: Do not pass an `input_shape`/`input_dim` argument to a layer. When using Sequential models, prefer using an `Input(shape)` object as the first layer in the model instead.\n",
      "  super().__init__(activity_regularizer=activity_regularizer, **kwargs)\n",
      "WARNING:absl:Compiled the loaded model, but the compiled metrics have yet to be built. `model.compile_metrics` will be empty until you train or evaluate the model.\n",
      "WARNING:absl:Error in loading the saved optimizer state. As a result, your model is starting with a freshly initialized optimizer.\n"
     ]
    },
    {
     "name": "stdout",
     "output_type": "stream",
     "text": [
      "Error loading image: Invalid URL 'LeafOrNotAll/leafNotleafDataset/test/Leaf/a9bc0746-7cb8-4cf7-8998-27afed5648d8___RS_GLSp 7322.JPG': No scheme supplied. Perhaps you meant https://LeafOrNotAll/leafNotleafDataset/test/Leaf/a9bc0746-7cb8-4cf7-8998-27afed5648d8___RS_GLSp 7322.JPG?\n"
     ]
    }
   ],
   "source": [
    "import numpy as np\n",
    "import requests\n",
    "from PIL import Image\n",
    "from io import BytesIO\n",
    "import matplotlib.pyplot as plt\n",
    "from tensorflow.keras.models import load_model\n",
    "from tensorflow.keras.preprocessing import image\n",
    "from tensorflow.keras.applications.mobilenet_v2 import preprocess_input as mobilenet_preprocess\n",
    "\n",
    "# ==============================================\n",
    "# CONFIGURATION\n",
    "# ==============================================\n",
    "\n",
    "# Set path to your trained model\n",
    "MODEL_PATH = \"leaf_classifier_cnn_fixed.h5\"  # or \"leaf_classifier_model_fixed.h5\"\n",
    "IS_MOBILENET = True  # Set to False if you're testing the CNN model\n",
    "\n",
    "# Set image size depending on the model\n",
    "IMG_SIZE = 224 if IS_MOBILENET else 150\n",
    "CLASS_LABELS = [\"Not_Leaf\", \"Leaf\"]  # Important: match your training class_indices\n",
    "\n",
    "# ==============================================\n",
    "# FUNCTION TO LOAD IMAGE FROM URL\n",
    "# ==============================================\n",
    "def load_image_from_url(url, target_size):\n",
    "    try:\n",
    "        response = requests.get(url)\n",
    "        img = Image.open(BytesIO(response.content)).convert(\"RGB\")\n",
    "        img = img.resize(target_size)\n",
    "        return img\n",
    "    except Exception as e:\n",
    "        print(f\"Error loading image: {e}\")\n",
    "        return None\n",
    "\n",
    "# ==============================================\n",
    "# PREDICTION FUNCTION\n",
    "# ==============================================\n",
    "def predict_image_from_url(img_url):\n",
    "    model = load_model(MODEL_PATH)\n",
    "    img = load_image_from_url(img_url, target_size=(IMG_SIZE, IMG_SIZE))\n",
    "\n",
    "    if img is None:\n",
    "        return\n",
    "\n",
    "    # Display the image\n",
    "    plt.imshow(img)\n",
    "    plt.axis(\"off\")\n",
    "    plt.title(\"Input Image\")\n",
    "    plt.show()\n",
    "\n",
    "    # Convert image to array\n",
    "    img_array = image.img_to_array(img)\n",
    "    img_array = np.expand_dims(img_array, axis=0)\n",
    "\n",
    "    # Preprocess based on model type\n",
    "    if IS_MOBILENET:\n",
    "        img_array = mobilenet_preprocess(img_array)\n",
    "    else:\n",
    "        img_array /= 255.0\n",
    "\n",
    "    # Predict\n",
    "    prediction = model.predict(img_array)[0][0]\n",
    "    label_idx = int(prediction >= 0.5)\n",
    "    label = CLASS_LABELS[label_idx]\n",
    "    confidence = prediction if label_idx == 1 else 1 - prediction\n",
    "\n",
    "    print(f\"Predicted: {label} ({confidence*100:.2f}%)\")\n",
    "\n",
    "# ==============================================\n",
    "# EXAMPLE: TEST WITH IMAGE URL\n",
    "# ==============================================\n",
    "\n",
    "# Leaf Example\n",
    "leaf_url = \"LeafOrNotAll/leafNotleafDataset/test/Leaf/a9bc0746-7cb8-4cf7-8998-27afed5648d8___RS_GLSp 7322.JPG\"\n",
    "\n",
    "# Not Leaf Example\n",
    "\n",
    "# Run prediction here:\n",
    "predict_image_from_url(leaf_url)\n",
    "# predict_image_from_url(not_leaf_url)\n"
   ]
  },
  {
   "cell_type": "code",
   "execution_count": null,
   "id": "cce85003-c58e-4ef9-9145-af22c3c311b0",
   "metadata": {},
   "outputs": [],
   "source": []
  }
 ],
 "metadata": {
  "kernelspec": {
   "display_name": "Python 3 (ipykernel)",
   "language": "python",
   "name": "python3"
  },
  "language_info": {
   "codemirror_mode": {
    "name": "ipython",
    "version": 3
   },
   "file_extension": ".py",
   "mimetype": "text/x-python",
   "name": "python",
   "nbconvert_exporter": "python",
   "pygments_lexer": "ipython3",
   "version": "3.10.11"
  }
 },
 "nbformat": 4,
 "nbformat_minor": 5
}
